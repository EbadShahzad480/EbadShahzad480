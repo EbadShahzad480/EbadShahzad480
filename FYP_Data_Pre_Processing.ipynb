{
  "nbformat": 4,
  "nbformat_minor": 0,
  "metadata": {
    "colab": {
      "name": "FYP Data Pre Processing.ipynb",
      "provenance": [],
      "include_colab_link": true
    },
    "kernelspec": {
      "name": "python3",
      "display_name": "Python 3"
    },
    "language_info": {
      "name": "python"
    }
  },
  "cells": [
    {
      "cell_type": "markdown",
      "metadata": {
        "id": "view-in-github",
        "colab_type": "text"
      },
      "source": [
        "<a href=\"https://colab.research.google.com/github/EbadShahzad480/EbadShahzad480/blob/main/FYP_Data_Pre_Processing.ipynb\" target=\"_parent\"><img src=\"https://colab.research.google.com/assets/colab-badge.svg\" alt=\"Open In Colab\"/></a>"
      ]
    },
    {
      "cell_type": "code",
      "metadata": {
        "id": "oIuH8eoJBg2M"
      },
      "source": [
        "import pandas as pd"
      ],
      "execution_count": 2,
      "outputs": []
    },
    {
      "cell_type": "markdown",
      "metadata": {
        "id": "55oS0GelwygM"
      },
      "source": [
        "# New Section"
      ]
    },
    {
      "cell_type": "code",
      "metadata": {
        "id": "swvrYwzyBl_7"
      },
      "source": [
        "data=pd.read_csv(\"/content/duplicated values.csv\")"
      ],
      "execution_count": 3,
      "outputs": []
    },
    {
      "cell_type": "code",
      "metadata": {
        "colab": {
          "base_uri": "https://localhost:8080/",
          "height": 204
        },
        "id": "gV5k3AISB8Fw",
        "outputId": "7db94381-1b0b-4e43-de7a-8b1fa6542be9"
      },
      "source": [
        "data.head()"
      ],
      "execution_count": 4,
      "outputs": [
        {
          "output_type": "execute_result",
          "data": {
            "text/html": [
              "<div>\n",
              "<style scoped>\n",
              "    .dataframe tbody tr th:only-of-type {\n",
              "        vertical-align: middle;\n",
              "    }\n",
              "\n",
              "    .dataframe tbody tr th {\n",
              "        vertical-align: top;\n",
              "    }\n",
              "\n",
              "    .dataframe thead th {\n",
              "        text-align: right;\n",
              "    }\n",
              "</style>\n",
              "<table border=\"1\" class=\"dataframe\">\n",
              "  <thead>\n",
              "    <tr style=\"text-align: right;\">\n",
              "      <th></th>\n",
              "      <th>Player</th>\n",
              "      <th>Span</th>\n",
              "      <th>Mat</th>\n",
              "      <th>Inns</th>\n",
              "      <th>NO</th>\n",
              "      <th>Runs</th>\n",
              "      <th>HS</th>\n",
              "      <th>Ave</th>\n",
              "      <th>BF</th>\n",
              "      <th>SR</th>\n",
              "      <th>100</th>\n",
              "      <th>50</th>\n",
              "      <th>0</th>\n",
              "      <th>4s</th>\n",
              "      <th>6s</th>\n",
              "    </tr>\n",
              "  </thead>\n",
              "  <tbody>\n",
              "    <tr>\n",
              "      <th>0</th>\n",
              "      <td>Ali Khan</td>\n",
              "      <td>2021-2021</td>\n",
              "      <td>3</td>\n",
              "      <td>-</td>\n",
              "      <td>-</td>\n",
              "      <td>-</td>\n",
              "      <td>-</td>\n",
              "      <td>-</td>\n",
              "      <td>-</td>\n",
              "      <td>-</td>\n",
              "      <td>-</td>\n",
              "      <td>-</td>\n",
              "      <td>-</td>\n",
              "      <td>-</td>\n",
              "      <td>-</td>\n",
              "    </tr>\n",
              "    <tr>\n",
              "      <th>1</th>\n",
              "      <td>Amad Butt</td>\n",
              "      <td>2017-2020</td>\n",
              "      <td>16</td>\n",
              "      <td>9</td>\n",
              "      <td>2</td>\n",
              "      <td>60</td>\n",
              "      <td>17</td>\n",
              "      <td>8.57</td>\n",
              "      <td>57</td>\n",
              "      <td>105.26</td>\n",
              "      <td>0</td>\n",
              "      <td>0</td>\n",
              "      <td>2</td>\n",
              "      <td>3</td>\n",
              "      <td>4</td>\n",
              "    </tr>\n",
              "    <tr>\n",
              "      <th>2</th>\n",
              "      <td>Babar Azam</td>\n",
              "      <td>2016-2016</td>\n",
              "      <td>2</td>\n",
              "      <td>2</td>\n",
              "      <td>0</td>\n",
              "      <td>15</td>\n",
              "      <td>15</td>\n",
              "      <td>7.5</td>\n",
              "      <td>26</td>\n",
              "      <td>57.69</td>\n",
              "      <td>0</td>\n",
              "      <td>0</td>\n",
              "      <td>1</td>\n",
              "      <td>1</td>\n",
              "      <td>0</td>\n",
              "    </tr>\n",
              "    <tr>\n",
              "      <th>3</th>\n",
              "      <td>CS Delport</td>\n",
              "      <td>2019-2019</td>\n",
              "      <td>12</td>\n",
              "      <td>12</td>\n",
              "      <td>1</td>\n",
              "      <td>355</td>\n",
              "      <td>117*</td>\n",
              "      <td>32.27</td>\n",
              "      <td>265</td>\n",
              "      <td>133.96</td>\n",
              "      <td>1</td>\n",
              "      <td>1</td>\n",
              "      <td>3</td>\n",
              "      <td>35</td>\n",
              "      <td>13</td>\n",
              "    </tr>\n",
              "    <tr>\n",
              "      <th>4</th>\n",
              "      <td>Fawad Ahmed</td>\n",
              "      <td>2021-2021</td>\n",
              "      <td>5</td>\n",
              "      <td>2</td>\n",
              "      <td>2</td>\n",
              "      <td>4</td>\n",
              "      <td>4*</td>\n",
              "      <td>-</td>\n",
              "      <td>6</td>\n",
              "      <td>66.66</td>\n",
              "      <td>0</td>\n",
              "      <td>0</td>\n",
              "      <td>0</td>\n",
              "      <td>0</td>\n",
              "      <td>0</td>\n",
              "    </tr>\n",
              "  </tbody>\n",
              "</table>\n",
              "</div>"
            ],
            "text/plain": [
              "        Player       Span  Mat Inns NO Runs  ...      SR 100 50  0  4s  6s\n",
              "0     Ali Khan  2021-2021    3    -  -    -  ...       -   -  -  -   -   -\n",
              "1    Amad Butt  2017-2020   16    9  2   60  ...  105.26   0  0  2   3   4\n",
              "2   Babar Azam  2016-2016    2    2  0   15  ...   57.69   0  0  1   1   0\n",
              "3   CS Delport  2019-2019   12   12  1  355  ...  133.96   1  1  3  35  13\n",
              "4  Fawad Ahmed  2021-2021    5    2  2    4  ...   66.66   0  0  0   0   0\n",
              "\n",
              "[5 rows x 15 columns]"
            ]
          },
          "metadata": {},
          "execution_count": 4
        }
      ]
    },
    {
      "cell_type": "code",
      "metadata": {
        "id": "UJhubDNhC16F"
      },
      "source": [
        "df=data.loc[data['Player']==\"Babar Azam\"]"
      ],
      "execution_count": 15,
      "outputs": []
    },
    {
      "cell_type": "code",
      "metadata": {
        "colab": {
          "base_uri": "https://localhost:8080/"
        },
        "id": "rPEpk6UIDgH2",
        "outputId": "0b06be0b-3409-4bc6-b63f-80ed9dd4ba7c"
      },
      "source": [
        "for i in df:\n",
        "  print((i))"
      ],
      "execution_count": 16,
      "outputs": [
        {
          "output_type": "stream",
          "name": "stdout",
          "text": [
            "Player\n",
            "Span\n",
            "Mat\n",
            "Inns\n",
            "NO\n",
            "Runs\n",
            "HS\n",
            "Ave\n",
            "BF\n",
            "SR\n",
            "100\n",
            "50\n",
            "0\n",
            "4s\n",
            "6s\n"
          ]
        }
      ]
    },
    {
      "cell_type": "code",
      "metadata": {
        "colab": {
          "base_uri": "https://localhost:8080/",
          "height": 111
        },
        "id": "ybZ7RYtzEX3W",
        "outputId": "cb4a33c6-5924-4517-c59b-2fb4ec3b4178"
      },
      "source": [
        "df"
      ],
      "execution_count": 17,
      "outputs": [
        {
          "output_type": "execute_result",
          "data": {
            "text/html": [
              "<div>\n",
              "<style scoped>\n",
              "    .dataframe tbody tr th:only-of-type {\n",
              "        vertical-align: middle;\n",
              "    }\n",
              "\n",
              "    .dataframe tbody tr th {\n",
              "        vertical-align: top;\n",
              "    }\n",
              "\n",
              "    .dataframe thead th {\n",
              "        text-align: right;\n",
              "    }\n",
              "</style>\n",
              "<table border=\"1\" class=\"dataframe\">\n",
              "  <thead>\n",
              "    <tr style=\"text-align: right;\">\n",
              "      <th></th>\n",
              "      <th>Player</th>\n",
              "      <th>Span</th>\n",
              "      <th>Mat</th>\n",
              "      <th>Inns</th>\n",
              "      <th>NO</th>\n",
              "      <th>Runs</th>\n",
              "      <th>HS</th>\n",
              "      <th>Ave</th>\n",
              "      <th>BF</th>\n",
              "      <th>SR</th>\n",
              "      <th>100</th>\n",
              "      <th>50</th>\n",
              "      <th>0</th>\n",
              "      <th>4s</th>\n",
              "      <th>6s</th>\n",
              "    </tr>\n",
              "  </thead>\n",
              "  <tbody>\n",
              "    <tr>\n",
              "      <th>2</th>\n",
              "      <td>Babar Azam</td>\n",
              "      <td>2016-2016</td>\n",
              "      <td>2</td>\n",
              "      <td>2</td>\n",
              "      <td>0</td>\n",
              "      <td>15</td>\n",
              "      <td>15</td>\n",
              "      <td>7.5</td>\n",
              "      <td>26</td>\n",
              "      <td>57.69</td>\n",
              "      <td>0</td>\n",
              "      <td>0</td>\n",
              "      <td>1</td>\n",
              "      <td>1</td>\n",
              "      <td>0</td>\n",
              "    </tr>\n",
              "    <tr>\n",
              "      <th>30</th>\n",
              "      <td>Babar Azam</td>\n",
              "      <td>2017-2021</td>\n",
              "      <td>56</td>\n",
              "      <td>54</td>\n",
              "      <td>8</td>\n",
              "      <td>2055</td>\n",
              "      <td>90*</td>\n",
              "      <td>44.67</td>\n",
              "      <td>1677</td>\n",
              "      <td>122.54</td>\n",
              "      <td>0</td>\n",
              "      <td>21</td>\n",
              "      <td>5</td>\n",
              "      <td>218</td>\n",
              "      <td>35</td>\n",
              "    </tr>\n",
              "  </tbody>\n",
              "</table>\n",
              "</div>"
            ],
            "text/plain": [
              "        Player       Span  Mat Inns NO  Runs  ...      SR 100  50  0   4s  6s\n",
              "2   Babar Azam  2016-2016    2    2  0    15  ...   57.69   0   0  1    1   0\n",
              "30  Babar Azam  2017-2021   56   54  8  2055  ...  122.54   0  21  5  218  35\n",
              "\n",
              "[2 rows x 15 columns]"
            ]
          },
          "metadata": {},
          "execution_count": 17
        }
      ]
    },
    {
      "cell_type": "code",
      "metadata": {
        "colab": {
          "base_uri": "https://localhost:8080/",
          "height": 165
        },
        "id": "HROVtBybEsDI",
        "outputId": "7f64b4bc-6b83-47fb-c3d8-0fca3580d5cf"
      },
      "source": [
        "df.groupby(['Player'])['Mat','Inns','NO','Runs','100','50','0','4s','6s'].sum()\n"
      ],
      "execution_count": 18,
      "outputs": [
        {
          "output_type": "stream",
          "name": "stderr",
          "text": [
            "/usr/local/lib/python3.7/dist-packages/ipykernel_launcher.py:1: FutureWarning: Indexing with multiple keys (implicitly converted to a tuple of keys) will be deprecated, use a list instead.\n",
            "  \"\"\"Entry point for launching an IPython kernel.\n"
          ]
        },
        {
          "output_type": "execute_result",
          "data": {
            "text/html": [
              "<div>\n",
              "<style scoped>\n",
              "    .dataframe tbody tr th:only-of-type {\n",
              "        vertical-align: middle;\n",
              "    }\n",
              "\n",
              "    .dataframe tbody tr th {\n",
              "        vertical-align: top;\n",
              "    }\n",
              "\n",
              "    .dataframe thead th {\n",
              "        text-align: right;\n",
              "    }\n",
              "</style>\n",
              "<table border=\"1\" class=\"dataframe\">\n",
              "  <thead>\n",
              "    <tr style=\"text-align: right;\">\n",
              "      <th></th>\n",
              "      <th>Mat</th>\n",
              "    </tr>\n",
              "    <tr>\n",
              "      <th>Player</th>\n",
              "      <th></th>\n",
              "    </tr>\n",
              "  </thead>\n",
              "  <tbody>\n",
              "    <tr>\n",
              "      <th>Babar Azam</th>\n",
              "      <td>58</td>\n",
              "    </tr>\n",
              "  </tbody>\n",
              "</table>\n",
              "</div>"
            ],
            "text/plain": [
              "            Mat\n",
              "Player         \n",
              "Babar Azam   58"
            ]
          },
          "metadata": {},
          "execution_count": 18
        }
      ]
    },
    {
      "cell_type": "code",
      "metadata": {
        "id": "BG5-9Gbjx7lu"
      },
      "source": [
        "df2=df[['Mat','Inns','NO','Runs','100','50','0','4s','6s']].apply(pd.to_numeric)\n"
      ],
      "execution_count": 20,
      "outputs": []
    },
    {
      "cell_type": "code",
      "metadata": {
        "id": "VHyVjcUiHK7I"
      },
      "source": [
        "df3= df.drop(columns=['Mat','Inns','NO','Runs','100','50','0','4s','6s','Ave','SR','Span'])\n",
        "df4=df3.join(df2)"
      ],
      "execution_count": 55,
      "outputs": []
    },
    {
      "cell_type": "code",
      "metadata": {
        "colab": {
          "base_uri": "https://localhost:8080/",
          "height": 111
        },
        "id": "GkiP_XyMIA4G",
        "outputId": "40cb6925-40fe-44ea-aa22-6bc15c6a1254"
      },
      "source": [
        "df4"
      ],
      "execution_count": 56,
      "outputs": [
        {
          "output_type": "execute_result",
          "data": {
            "text/html": [
              "<div>\n",
              "<style scoped>\n",
              "    .dataframe tbody tr th:only-of-type {\n",
              "        vertical-align: middle;\n",
              "    }\n",
              "\n",
              "    .dataframe tbody tr th {\n",
              "        vertical-align: top;\n",
              "    }\n",
              "\n",
              "    .dataframe thead th {\n",
              "        text-align: right;\n",
              "    }\n",
              "</style>\n",
              "<table border=\"1\" class=\"dataframe\">\n",
              "  <thead>\n",
              "    <tr style=\"text-align: right;\">\n",
              "      <th></th>\n",
              "      <th>Player</th>\n",
              "      <th>HS</th>\n",
              "      <th>BF</th>\n",
              "      <th>Mat</th>\n",
              "      <th>Inns</th>\n",
              "      <th>NO</th>\n",
              "      <th>Runs</th>\n",
              "      <th>100</th>\n",
              "      <th>50</th>\n",
              "      <th>0</th>\n",
              "      <th>4s</th>\n",
              "      <th>6s</th>\n",
              "    </tr>\n",
              "  </thead>\n",
              "  <tbody>\n",
              "    <tr>\n",
              "      <th>2</th>\n",
              "      <td>Babar Azam</td>\n",
              "      <td>15</td>\n",
              "      <td>26</td>\n",
              "      <td>2</td>\n",
              "      <td>2</td>\n",
              "      <td>0</td>\n",
              "      <td>15</td>\n",
              "      <td>0</td>\n",
              "      <td>0</td>\n",
              "      <td>1</td>\n",
              "      <td>1</td>\n",
              "      <td>0</td>\n",
              "    </tr>\n",
              "    <tr>\n",
              "      <th>30</th>\n",
              "      <td>Babar Azam</td>\n",
              "      <td>90*</td>\n",
              "      <td>1677</td>\n",
              "      <td>56</td>\n",
              "      <td>54</td>\n",
              "      <td>8</td>\n",
              "      <td>2055</td>\n",
              "      <td>0</td>\n",
              "      <td>21</td>\n",
              "      <td>5</td>\n",
              "      <td>218</td>\n",
              "      <td>35</td>\n",
              "    </tr>\n",
              "  </tbody>\n",
              "</table>\n",
              "</div>"
            ],
            "text/plain": [
              "        Player   HS    BF  Mat  Inns  NO  Runs  100  50  0   4s  6s\n",
              "2   Babar Azam   15    26    2     2   0    15    0   0  1    1   0\n",
              "30  Babar Azam  90*  1677   56    54   8  2055    0  21  5  218  35"
            ]
          },
          "metadata": {},
          "execution_count": 56
        }
      ]
    },
    {
      "cell_type": "code",
      "metadata": {
        "colab": {
          "base_uri": "https://localhost:8080/"
        },
        "id": "rAYdbUsuIoNu",
        "outputId": "c0229577-9f24-4ae9-d2f4-5a5ba4023c0c"
      },
      "source": [
        "df5 = df4.groupby(['Player'])[['Mat','Inns','NO','Runs','100','50','0','4s','6s' ]].apply(sum)\n",
        "print(df5)"
      ],
      "execution_count": 57,
      "outputs": [
        {
          "output_type": "stream",
          "name": "stdout",
          "text": [
            "            Mat  Inns  NO  Runs  100  50  0   4s  6s\n",
            "Player                                              \n",
            "Babar Azam   58    56   8  2070    0  21  6  219  35\n"
          ]
        }
      ]
    },
    {
      "cell_type": "code",
      "metadata": {
        "colab": {
          "base_uri": "https://localhost:8080/"
        },
        "id": "AyYPFJtxJ71o",
        "outputId": "74fc7917-c9ee-4584-f3eb-c07588c381f7"
      },
      "source": [
        "for i in df['HS']:\n",
        "  print(i)"
      ],
      "execution_count": 58,
      "outputs": [
        {
          "output_type": "stream",
          "name": "stdout",
          "text": [
            "15\n",
            "90*\n"
          ]
        }
      ]
    },
    {
      "cell_type": "code",
      "metadata": {
        "colab": {
          "base_uri": "https://localhost:8080/",
          "height": 111
        },
        "id": "I93jmdFw0S5h",
        "outputId": "ff6f86ab-a3df-4af1-9200-cc797de4cca0"
      },
      "source": [
        "df\n"
      ],
      "execution_count": 59,
      "outputs": [
        {
          "output_type": "execute_result",
          "data": {
            "text/html": [
              "<div>\n",
              "<style scoped>\n",
              "    .dataframe tbody tr th:only-of-type {\n",
              "        vertical-align: middle;\n",
              "    }\n",
              "\n",
              "    .dataframe tbody tr th {\n",
              "        vertical-align: top;\n",
              "    }\n",
              "\n",
              "    .dataframe thead th {\n",
              "        text-align: right;\n",
              "    }\n",
              "</style>\n",
              "<table border=\"1\" class=\"dataframe\">\n",
              "  <thead>\n",
              "    <tr style=\"text-align: right;\">\n",
              "      <th></th>\n",
              "      <th>Player</th>\n",
              "      <th>Span</th>\n",
              "      <th>Mat</th>\n",
              "      <th>Inns</th>\n",
              "      <th>NO</th>\n",
              "      <th>Runs</th>\n",
              "      <th>HS</th>\n",
              "      <th>Ave</th>\n",
              "      <th>BF</th>\n",
              "      <th>SR</th>\n",
              "      <th>100</th>\n",
              "      <th>50</th>\n",
              "      <th>0</th>\n",
              "      <th>4s</th>\n",
              "      <th>6s</th>\n",
              "    </tr>\n",
              "  </thead>\n",
              "  <tbody>\n",
              "    <tr>\n",
              "      <th>2</th>\n",
              "      <td>Babar Azam</td>\n",
              "      <td>2016-2016</td>\n",
              "      <td>2</td>\n",
              "      <td>2</td>\n",
              "      <td>0</td>\n",
              "      <td>15</td>\n",
              "      <td>15</td>\n",
              "      <td>7.5</td>\n",
              "      <td>26</td>\n",
              "      <td>57.69</td>\n",
              "      <td>0</td>\n",
              "      <td>0</td>\n",
              "      <td>1</td>\n",
              "      <td>1</td>\n",
              "      <td>0</td>\n",
              "    </tr>\n",
              "    <tr>\n",
              "      <th>30</th>\n",
              "      <td>Babar Azam</td>\n",
              "      <td>2017-2021</td>\n",
              "      <td>56</td>\n",
              "      <td>54</td>\n",
              "      <td>8</td>\n",
              "      <td>2055</td>\n",
              "      <td>90*</td>\n",
              "      <td>44.67</td>\n",
              "      <td>1677</td>\n",
              "      <td>122.54</td>\n",
              "      <td>0</td>\n",
              "      <td>21</td>\n",
              "      <td>5</td>\n",
              "      <td>218</td>\n",
              "      <td>35</td>\n",
              "    </tr>\n",
              "  </tbody>\n",
              "</table>\n",
              "</div>"
            ],
            "text/plain": [
              "        Player       Span  Mat Inns NO  Runs  ...      SR 100  50  0   4s  6s\n",
              "2   Babar Azam  2016-2016    2    2  0    15  ...   57.69   0   0  1    1   0\n",
              "30  Babar Azam  2017-2021   56   54  8  2055  ...  122.54   0  21  5  218  35\n",
              "\n",
              "[2 rows x 15 columns]"
            ]
          },
          "metadata": {},
          "execution_count": 59
        }
      ]
    },
    {
      "cell_type": "code",
      "metadata": {
        "id": "Z_cNc6WQOBmm",
        "colab": {
          "base_uri": "https://localhost:8080/"
        },
        "outputId": "6b145af6-d51c-485a-9ff1-c465829e6cfb"
      },
      "source": [
        "df5['HS'] = df.max()['HS']\n",
        "print(df5)"
      ],
      "execution_count": 60,
      "outputs": [
        {
          "output_type": "stream",
          "name": "stdout",
          "text": [
            "            Mat  Inns  NO  Runs  100  50  0   4s  6s   HS\n",
            "Player                                                   \n",
            "Babar Azam   58    56   8  2070    0  21  6  219  35  90*\n"
          ]
        }
      ]
    }
  ]
}